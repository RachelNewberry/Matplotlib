{
 "cells": [
  {
   "cell_type": "code",
   "execution_count": 21,
   "metadata": {},
   "outputs": [],
   "source": [
    "import matplotlib.pyplot as plt\n",
    "import pandas as pd\n",
    "import scipy.stats as stats\n"
   ]
  },
  {
   "cell_type": "code",
   "execution_count": 22,
   "metadata": {},
   "outputs": [],
   "source": [
    "# Study data files\n",
    "mouse_metadata_path = \"data/Mouse_metadata.csv\"\n",
    "study_results_path = \"data/Study_results.csv\"\n"
   ]
  },
  {
   "cell_type": "code",
   "execution_count": 23,
   "metadata": {},
   "outputs": [],
   "source": [
    "# Read the mouse data and the study results\n",
    "mouse_metadata = pd.read_csv(mouse_metadata_path)\n",
    "study_results = pd.read_csv(study_results_path)\n"
   ]
  },
  {
   "cell_type": "code",
   "execution_count": 24,
   "metadata": {},
   "outputs": [
    {
     "data": {
      "text/html": [
       "<div>\n",
       "<style scoped>\n",
       "    .dataframe tbody tr th:only-of-type {\n",
       "        vertical-align: middle;\n",
       "    }\n",
       "\n",
       "    .dataframe tbody tr th {\n",
       "        vertical-align: top;\n",
       "    }\n",
       "\n",
       "    .dataframe thead th {\n",
       "        text-align: right;\n",
       "    }\n",
       "</style>\n",
       "<table border=\"1\" class=\"dataframe\">\n",
       "  <thead>\n",
       "    <tr style=\"text-align: right;\">\n",
       "      <th></th>\n",
       "      <th>Mouse ID</th>\n",
       "      <th>Drug Regimen</th>\n",
       "      <th>Sex</th>\n",
       "      <th>Age_months</th>\n",
       "      <th>Weight (g)</th>\n",
       "      <th>Timepoint</th>\n",
       "      <th>Tumor Volume (mm3)</th>\n",
       "      <th>Metastatic Sites</th>\n",
       "    </tr>\n",
       "  </thead>\n",
       "  <tbody>\n",
       "    <tr>\n",
       "      <th>0</th>\n",
       "      <td>k403</td>\n",
       "      <td>Ramicane</td>\n",
       "      <td>Male</td>\n",
       "      <td>21</td>\n",
       "      <td>16</td>\n",
       "      <td>0</td>\n",
       "      <td>45.000000</td>\n",
       "      <td>0</td>\n",
       "    </tr>\n",
       "    <tr>\n",
       "      <th>1</th>\n",
       "      <td>k403</td>\n",
       "      <td>Ramicane</td>\n",
       "      <td>Male</td>\n",
       "      <td>21</td>\n",
       "      <td>16</td>\n",
       "      <td>5</td>\n",
       "      <td>38.825898</td>\n",
       "      <td>0</td>\n",
       "    </tr>\n",
       "    <tr>\n",
       "      <th>2</th>\n",
       "      <td>k403</td>\n",
       "      <td>Ramicane</td>\n",
       "      <td>Male</td>\n",
       "      <td>21</td>\n",
       "      <td>16</td>\n",
       "      <td>10</td>\n",
       "      <td>35.014271</td>\n",
       "      <td>1</td>\n",
       "    </tr>\n",
       "    <tr>\n",
       "      <th>3</th>\n",
       "      <td>k403</td>\n",
       "      <td>Ramicane</td>\n",
       "      <td>Male</td>\n",
       "      <td>21</td>\n",
       "      <td>16</td>\n",
       "      <td>15</td>\n",
       "      <td>34.223992</td>\n",
       "      <td>1</td>\n",
       "    </tr>\n",
       "    <tr>\n",
       "      <th>4</th>\n",
       "      <td>k403</td>\n",
       "      <td>Ramicane</td>\n",
       "      <td>Male</td>\n",
       "      <td>21</td>\n",
       "      <td>16</td>\n",
       "      <td>20</td>\n",
       "      <td>32.997729</td>\n",
       "      <td>1</td>\n",
       "    </tr>\n",
       "    <tr>\n",
       "      <th>...</th>\n",
       "      <td>...</td>\n",
       "      <td>...</td>\n",
       "      <td>...</td>\n",
       "      <td>...</td>\n",
       "      <td>...</td>\n",
       "      <td>...</td>\n",
       "      <td>...</td>\n",
       "      <td>...</td>\n",
       "    </tr>\n",
       "    <tr>\n",
       "      <th>1888</th>\n",
       "      <td>z969</td>\n",
       "      <td>Naftisol</td>\n",
       "      <td>Male</td>\n",
       "      <td>9</td>\n",
       "      <td>30</td>\n",
       "      <td>25</td>\n",
       "      <td>63.145652</td>\n",
       "      <td>2</td>\n",
       "    </tr>\n",
       "    <tr>\n",
       "      <th>1889</th>\n",
       "      <td>z969</td>\n",
       "      <td>Naftisol</td>\n",
       "      <td>Male</td>\n",
       "      <td>9</td>\n",
       "      <td>30</td>\n",
       "      <td>30</td>\n",
       "      <td>65.841013</td>\n",
       "      <td>3</td>\n",
       "    </tr>\n",
       "    <tr>\n",
       "      <th>1890</th>\n",
       "      <td>z969</td>\n",
       "      <td>Naftisol</td>\n",
       "      <td>Male</td>\n",
       "      <td>9</td>\n",
       "      <td>30</td>\n",
       "      <td>35</td>\n",
       "      <td>69.176246</td>\n",
       "      <td>4</td>\n",
       "    </tr>\n",
       "    <tr>\n",
       "      <th>1891</th>\n",
       "      <td>z969</td>\n",
       "      <td>Naftisol</td>\n",
       "      <td>Male</td>\n",
       "      <td>9</td>\n",
       "      <td>30</td>\n",
       "      <td>40</td>\n",
       "      <td>70.314904</td>\n",
       "      <td>4</td>\n",
       "    </tr>\n",
       "    <tr>\n",
       "      <th>1892</th>\n",
       "      <td>z969</td>\n",
       "      <td>Naftisol</td>\n",
       "      <td>Male</td>\n",
       "      <td>9</td>\n",
       "      <td>30</td>\n",
       "      <td>45</td>\n",
       "      <td>73.867845</td>\n",
       "      <td>4</td>\n",
       "    </tr>\n",
       "  </tbody>\n",
       "</table>\n",
       "<p>1893 rows × 8 columns</p>\n",
       "</div>"
      ],
      "text/plain": [
       "     Mouse ID Drug Regimen   Sex  Age_months  Weight (g)  Timepoint  \\\n",
       "0        k403     Ramicane  Male          21          16          0   \n",
       "1        k403     Ramicane  Male          21          16          5   \n",
       "2        k403     Ramicane  Male          21          16         10   \n",
       "3        k403     Ramicane  Male          21          16         15   \n",
       "4        k403     Ramicane  Male          21          16         20   \n",
       "...       ...          ...   ...         ...         ...        ...   \n",
       "1888     z969     Naftisol  Male           9          30         25   \n",
       "1889     z969     Naftisol  Male           9          30         30   \n",
       "1890     z969     Naftisol  Male           9          30         35   \n",
       "1891     z969     Naftisol  Male           9          30         40   \n",
       "1892     z969     Naftisol  Male           9          30         45   \n",
       "\n",
       "      Tumor Volume (mm3)  Metastatic Sites  \n",
       "0              45.000000                 0  \n",
       "1              38.825898                 0  \n",
       "2              35.014271                 1  \n",
       "3              34.223992                 1  \n",
       "4              32.997729                 1  \n",
       "...                  ...               ...  \n",
       "1888           63.145652                 2  \n",
       "1889           65.841013                 3  \n",
       "1890           69.176246                 4  \n",
       "1891           70.314904                 4  \n",
       "1892           73.867845                 4  \n",
       "\n",
       "[1893 rows x 8 columns]"
      ]
     },
     "execution_count": 24,
     "metadata": {},
     "output_type": "execute_result"
    }
   ],
   "source": [
    "# Combine the data into a single dataset\n",
    "# Display the data table for preview\n",
    "mousedf = pd.DataFrame(mouse_metadata)\n",
    "resultsdf = pd.DataFrame(study_results)\n",
    "mouse_resultsdf = pd.merge(mousedf, resultsdf, on=\"Mouse ID\")\n",
    "mouse_resultsdf\n"
   ]
  },
  {
   "cell_type": "code",
   "execution_count": 25,
   "metadata": {},
   "outputs": [
    {
     "name": "stdout",
     "output_type": "stream",
     "text": [
      "249\n"
     ]
    }
   ],
   "source": [
    "# Checking the number of mice.\n",
    "unique_mice = mouse_resultsdf[\"Mouse ID\"].unique()\n",
    "numMice = len(unique_mice)\n",
    "print(numMice)\n"
   ]
  },
  {
   "cell_type": "code",
   "execution_count": 28,
   "metadata": {},
   "outputs": [
    {
     "name": "stdout",
     "output_type": "stream",
     "text": [
      "1893\n"
     ]
    }
   ],
   "source": [
    "numMeasurements = mouse_resultsdf[\"Mouse ID\"].count()\n",
    "numMeasurements\n",
    "print(numMeasurements)\n"
   ]
  },
  {
   "cell_type": "code",
   "execution_count": 29,
   "metadata": {},
   "outputs": [
    {
     "name": "stdout",
     "output_type": "stream",
     "text": [
      "1888\n"
     ]
    }
   ],
   "source": [
    "# Getting the duplicate mice by ID number that shows up for Mouse ID and Timepoint. \n",
    " \n",
    "mice_duplicates = mouse_resultsdf.groupby(['Mouse ID', 'Timepoint'])\n",
    "mice_duplicates\n",
    "\n",
    "clean_mousedf = mouse_resultsdf.drop_duplicates(subset=['Mouse ID','Timepoint'])\n",
    "clean_mousedf.head()\n",
    "\n",
    "clean_mousedf = mouse_resultsdf.drop_duplicates(subset=['Mouse ID','Timepoint'])\n",
    "clean_mousedf.head()\n",
    "\n",
    "clean_ntrials = len(clean_mousedf)\n",
    "print(clean_ntrials)\n",
    "# new trials = 1888\n"
   ]
  },
  {
   "cell_type": "code",
   "execution_count": 8,
   "metadata": {},
   "outputs": [
    {
     "data": {
      "text/html": [
       "<div>\n",
       "<style scoped>\n",
       "    .dataframe tbody tr th:only-of-type {\n",
       "        vertical-align: middle;\n",
       "    }\n",
       "\n",
       "    .dataframe tbody tr th {\n",
       "        vertical-align: top;\n",
       "    }\n",
       "\n",
       "    .dataframe thead th {\n",
       "        text-align: right;\n",
       "    }\n",
       "</style>\n",
       "<table border=\"1\" class=\"dataframe\">\n",
       "  <thead>\n",
       "    <tr style=\"text-align: right;\">\n",
       "      <th></th>\n",
       "      <th>Mean Tumor Volume</th>\n",
       "      <th>Median Tumor Volume</th>\n",
       "      <th>Tumor Volume Variance</th>\n",
       "      <th>Tumor Volume Std. Dev.</th>\n",
       "      <th>Tumor Volume Std. Err.</th>\n",
       "    </tr>\n",
       "  </thead>\n",
       "  <tbody>\n",
       "    <tr>\n",
       "      <th>Capomulin</th>\n",
       "      <td>40.675741</td>\n",
       "      <td>41.557809</td>\n",
       "      <td>24.947764</td>\n",
       "      <td>4.994774</td>\n",
       "      <td>0.329346</td>\n",
       "    </tr>\n",
       "    <tr>\n",
       "      <th>Ceftamin</th>\n",
       "      <td>52.591172</td>\n",
       "      <td>51.776157</td>\n",
       "      <td>39.290177</td>\n",
       "      <td>6.268188</td>\n",
       "      <td>0.469821</td>\n",
       "    </tr>\n",
       "    <tr>\n",
       "      <th>Infubinol</th>\n",
       "      <td>52.884795</td>\n",
       "      <td>51.820584</td>\n",
       "      <td>43.128684</td>\n",
       "      <td>6.567243</td>\n",
       "      <td>0.492236</td>\n",
       "    </tr>\n",
       "    <tr>\n",
       "      <th>Ketapril</th>\n",
       "      <td>55.235638</td>\n",
       "      <td>53.698743</td>\n",
       "      <td>68.553577</td>\n",
       "      <td>8.279709</td>\n",
       "      <td>0.603860</td>\n",
       "    </tr>\n",
       "    <tr>\n",
       "      <th>Naftisol</th>\n",
       "      <td>54.331565</td>\n",
       "      <td>52.509285</td>\n",
       "      <td>66.173479</td>\n",
       "      <td>8.134708</td>\n",
       "      <td>0.596466</td>\n",
       "    </tr>\n",
       "    <tr>\n",
       "      <th>Placebo</th>\n",
       "      <td>54.033581</td>\n",
       "      <td>52.288934</td>\n",
       "      <td>61.168083</td>\n",
       "      <td>7.821003</td>\n",
       "      <td>0.581331</td>\n",
       "    </tr>\n",
       "    <tr>\n",
       "      <th>Propriva</th>\n",
       "      <td>52.393463</td>\n",
       "      <td>50.909965</td>\n",
       "      <td>43.138803</td>\n",
       "      <td>6.568014</td>\n",
       "      <td>0.525862</td>\n",
       "    </tr>\n",
       "    <tr>\n",
       "      <th>Ramicane</th>\n",
       "      <td>40.216745</td>\n",
       "      <td>40.673236</td>\n",
       "      <td>23.486704</td>\n",
       "      <td>4.846308</td>\n",
       "      <td>0.320955</td>\n",
       "    </tr>\n",
       "    <tr>\n",
       "      <th>Stelasyn</th>\n",
       "      <td>54.233149</td>\n",
       "      <td>52.431737</td>\n",
       "      <td>59.450562</td>\n",
       "      <td>7.710419</td>\n",
       "      <td>0.573111</td>\n",
       "    </tr>\n",
       "    <tr>\n",
       "      <th>Zoniferol</th>\n",
       "      <td>53.236507</td>\n",
       "      <td>51.818479</td>\n",
       "      <td>48.533355</td>\n",
       "      <td>6.966589</td>\n",
       "      <td>0.516398</td>\n",
       "    </tr>\n",
       "  </tbody>\n",
       "</table>\n",
       "</div>"
      ],
      "text/plain": [
       "           Mean Tumor Volume  Median Tumor Volume  Tumor Volume Variance  \\\n",
       "Capomulin          40.675741            41.557809              24.947764   \n",
       "Ceftamin           52.591172            51.776157              39.290177   \n",
       "Infubinol          52.884795            51.820584              43.128684   \n",
       "Ketapril           55.235638            53.698743              68.553577   \n",
       "Naftisol           54.331565            52.509285              66.173479   \n",
       "Placebo            54.033581            52.288934              61.168083   \n",
       "Propriva           52.393463            50.909965              43.138803   \n",
       "Ramicane           40.216745            40.673236              23.486704   \n",
       "Stelasyn           54.233149            52.431737              59.450562   \n",
       "Zoniferol          53.236507            51.818479              48.533355   \n",
       "\n",
       "           Tumor Volume Std. Dev.  Tumor Volume Std. Err.  \n",
       "Capomulin                4.994774                0.329346  \n",
       "Ceftamin                 6.268188                0.469821  \n",
       "Infubinol                6.567243                0.492236  \n",
       "Ketapril                 8.279709                0.603860  \n",
       "Naftisol                 8.134708                0.596466  \n",
       "Placebo                  7.821003                0.581331  \n",
       "Propriva                 6.568014                0.525862  \n",
       "Ramicane                 4.846308                0.320955  \n",
       "Stelasyn                 7.710419                0.573111  \n",
       "Zoniferol                6.966589                0.516398  "
      ]
     },
     "execution_count": 8,
     "metadata": {},
     "output_type": "execute_result"
    }
   ],
   "source": [
    "#SUMMARY STATISTICS - check last matplotlib lecture\n",
    "\n",
    "# for each drug regimen, calculate mean, median, variance , SE and SEM of tumor volume\n",
    "\n",
    "\n",
    "tumor_means = clean_mousedf.groupby('Drug Regimen').mean()['Tumor Volume (mm3)']\n",
    "tumor_medians = clean_mousedf.groupby('Drug Regimen').median()['Tumor Volume (mm3)']\n",
    "tumor_variances = clean_mousedf.groupby('Drug Regimen').var()['Tumor Volume (mm3)']\n",
    "tumor_sds = clean_mousedf.groupby('Drug Regimen').std()['Tumor Volume (mm3)']\n",
    "tumor_sems = clean_mousedf.groupby('Drug Regimen').sem()['Tumor Volume (mm3)']\n",
    "tumor_summary_table = pd.DataFrame({\"Mean Tumor Volume\":tumor_means,\n",
    "                              \"Median Tumor Volume\":tumor_medians,\n",
    "                              \"Tumor Volume Variance\":tumor_variances,\n",
    "                              \"Tumor Volume Std. Dev.\":tumor_sds,\n",
    "                              \"Tumor Volume Std. Err.\":tumor_sems})\n",
    "tumor_summary_table\n",
    "\n",
    "tumor_summary_table.agg({\"Mean Tumor Volume\" : ['Capomulin','Ceftamin','Infubinol','Ketapril','Naftisol','Placebo','Propriva',\n",
    "                                               'Ramicane', 'Stelasyn', 'Zoniferol'],\n",
    "                          \"Median Tumor Volume\": ['Capomulin','Ceftamin','Infubinol','Ketapril','Naftisol','Placebo','Propriva','Ramicane', 'Stelasyn', 'Zoniferol'],\n",
    "                        \"Tumor Volume Variance\" : ['Capomulin','Ceftamin','Infubinol','Ketapril','Naftisol','Placebo','Propriva','Ramicane', 'Stelasyn', 'Zoniferol'],\n",
    "                        \"Tumor Volume Std. Dev.\" : ['Capomulin','Ceftamin','Infubinol','Ketapril','Naftisol','Placebo','Propriva','Ramicane', 'Stelasyn', 'Zoniferol'],\n",
    "                        \"Tumor Volume Std. Err.\": ['Capomulin','Ceftamin','Infubinol','Ketapril','Naftisol','Placebo','Propriva','Ramicane', 'Stelasyn', 'Zoniferol']})\n"
   ]
  },
  {
   "cell_type": "code",
   "execution_count": 9,
   "metadata": {},
   "outputs": [
    {
     "data": {
      "image/png": "[encoded data removed]",
      "text/plain": [
       "<Figure size 432x288 with 1 Axes>"
      ]
     },
     "metadata": {
      "needs_background": "light"
     },
     "output_type": "display_data"
    }
   ],
   "source": [
    "# metrics re-produced with \"aggregation\" method\n",
    "# Generate a bar plot showing the total number of measurements taken on each drug regimen using pandas.\n",
    "counts = clean_mousedf['Drug Regimen'].value_counts()\n",
    "counts.plot(kind=\"bar\")\n",
    "plt.xlabel(\"Drug Regimen\")\n",
    "plt.xticks(rotation=90)\n",
    "plt.ylabel(\"Total Number of Measurements\")\n",
    "plt.show()\n"
   ]
  },
  {
   "cell_type": "code",
   "execution_count": 11,
   "metadata": {},
   "outputs": [
    {
     "data": {
      "text/plain": [
       "Text(0, 0.5, 'Total Number of Measurements')"
      ]
     },
     "execution_count": 11,
     "metadata": {},
     "output_type": "execute_result"
    },
    {
     "data": {
      "image/png": "[encoded data removed]",
      "text/plain": [
       "<Figure size 432x288 with 1 Axes>"
      ]
     },
     "metadata": {
      "needs_background": "light"
     },
     "output_type": "display_data"
    }
   ],
   "source": [
    "# Generate a bar plot showing the total number of measurements taken on each drug regimen using pyplot.\n",
    "plt.hist(clean_mousedf[\"Drug Regimen\"])\n",
    "plt.xlabel(\"Drug Therapy\")\n",
    "#plt.xtick(rotation=90)\n",
    "plt.ylabel(\"Total Number of Measurements\")\n"
   ]
  },
  {
   "cell_type": "code",
   "execution_count": 12,
   "metadata": {},
   "outputs": [
    {
     "data": {
      "image/png": "[encoded data removed]",
      "text/plain": [
       "<Figure size 432x288 with 1 Axes>"
      ]
     },
     "metadata": {},
     "output_type": "display_data"
    }
   ],
   "source": [
    "# pandas pie chart for gender\n",
    "counts = clean_mousedf['Sex'].value_counts()\n",
    "counts.plot(kind=\"pie\")\n",
    "\n",
    "plt.show()\n"
   ]
  },
  {
   "cell_type": "code",
   "execution_count": 13,
   "metadata": {},
   "outputs": [
    {
     "name": "stdout",
     "output_type": "stream",
     "text": [
      "Male      958\n",
      "Female    930\n",
      "Name: Sex, dtype: int64\n"
     ]
    },
    {
     "data": {
      "text/plain": [
       "([<matplotlib.patches.Wedge at 0x21c260e9220>,\n",
       "  <matplotlib.patches.Wedge at 0x21c260e9b50>],\n",
       " [Text(-0.6872462450269542, -0.8588903298421469, 'male'),\n",
       "  Text(0.6872463254420675, 0.8588902654975058, 'female')],\n",
       " [Text(-0.37486158819652043, -0.46848563445935276, '50.7%'),\n",
       "  Text(0.3748616320593095, 0.46848559936227585, '49.3%')])"
      ]
     },
     "execution_count": 13,
     "metadata": {},
     "output_type": "execute_result"
    },
    {
     "data": {
      "image/png": "[encoded data removed]",
      "text/plain": [
       "<Figure size 432x288 with 1 Axes>"
      ]
     },
     "metadata": {},
     "output_type": "display_data"
    }
   ],
   "source": [
    "# matplotlib pie chart for gender\n",
    "sexdf = clean_mousedf[\"Sex\"].value_counts()\n",
    "print(sexdf)\n",
    "labels = [\"male\",\"female\"]\n",
    "colors = [\"blue\",\"red\"]\n",
    "plt.pie(sexdf,labels=labels, colors=colors,\n",
    "        autopct=\"%1.1f%%\", shadow=True, startangle=140)\n"
   ]
  },
  {
   "cell_type": "code",
   "execution_count": 14,
   "metadata": {},
   "outputs": [
    {
     "data": {
      "image/png": "[encoded data removed]",
      "text/plain": [
       "<Figure size 432x288 with 1 Axes>"
      ]
     },
     "metadata": {
      "needs_background": "light"
     },
     "output_type": "display_data"
    },
    {
     "name": "stdout",
     "output_type": "stream",
     "text": [
      "Any data points that falls below 42.449999999999996 (mm3) or above 50.75000000000001 (mm3) is an outlier data point.\n"
     ]
    }
   ],
   "source": [
    "#QUARTLIES, OUTLIERS AND BOXPLOTS\n",
    "# Calculate the final tumor volume of each mouse across four of the treatment regimens:  \n",
    "# Capomulin, Ramicane, Infubinol, and Ceftamin\n",
    "\n",
    "# Start by getting the last (greatest) timepoint for each mouse\n",
    "# Merge this group df with the original dataframe to get the tumor volume at the last timepoint\n",
    "#QUARTLIES, OUTLIERS AND BOXPLOTS\n",
    "# Calculate the final tumor volume of each mouse across four of the treatment regimens: \n",
    "\n",
    "# Capomulin, Ramicane, Infubinol, and Ceftamin\n",
    "only_cap = clean_mousedf.loc[(clean_mousedf[\"Drug Regimen\"] == \"Capomulin\"),:]\n",
    "cap_stats = only_cap.groupby([\"Mouse ID\", \"Drug Regimen\"]).max()[\"Tumor Volume (mm3)\"]\n",
    "cap_stats\n",
    "capdf = pd.DataFrame(cap_stats, columns=[\"Tumor Volume (mm3)\"])\n",
    "capdf\n",
    "\n",
    "fig1, ax1 = plt.subplots()\n",
    "ax1.set_title('Capomulin')\n",
    "ax1.set_ylabel('Tumor Volume (mm3)')\n",
    "ax1.boxplot(capdf)\n",
    "plt.show()\n",
    "\n",
    "capdf.describe()\n",
    "capIQR = 46.7 - 45.0\n",
    "cap_outliers = capIQR*1.5\n",
    "mincap = 45.0\n",
    "maxcap = 48.2\n",
    "print( \"Any data points that falls below \" \n",
    "      +  str(mincap - cap_outliers)  + \" (mm3) or above \" + str(maxcap + cap_outliers) + \n",
    "      \" (mm3) is an outlier data point.\")\n"
   ]
  },
  {
   "cell_type": "code",
   "execution_count": 15,
   "metadata": {},
   "outputs": [
    {
     "name": "stdout",
     "output_type": "stream",
     "text": [
      "     Mouse ID Drug Regimen     Sex  Age_months  Weight (g)  Timepoint  \\\n",
      "10       s185    Capomulin  Female           3          17          0   \n",
      "11       s185    Capomulin  Female           3          17          5   \n",
      "12       s185    Capomulin  Female           3          17         10   \n",
      "13       s185    Capomulin  Female           3          17         15   \n",
      "14       s185    Capomulin  Female           3          17         20   \n",
      "...       ...          ...     ...         ...         ...        ...   \n",
      "440      i557    Capomulin  Female           1          24         45   \n",
      "1452     r157    Capomulin    Male          22          25          0   \n",
      "1453     r157    Capomulin    Male          22          25          5   \n",
      "1454     r157    Capomulin    Male          22          25         10   \n",
      "1455     r157    Capomulin    Male          22          25         15   \n",
      "\n",
      "      Tumor Volume (mm3)  Metastatic Sites  \n",
      "10             45.000000                 0  \n",
      "11             43.878496                 0  \n",
      "12             37.614948                 0  \n",
      "13             38.177232                 0  \n",
      "14             36.866876                 0  \n",
      "...                  ...               ...  \n",
      "440            47.685963                 1  \n",
      "1452           45.000000                 0  \n",
      "1453           45.597064                 0  \n",
      "1454           46.059608                 0  \n",
      "1455           46.539206                 0  \n",
      "\n",
      "[230 rows x 8 columns]\n"
     ]
    },
    {
     "data": {
      "image/png": "[encoded data removed]",
      "text/plain": [
       "<Figure size 432x288 with 1 Axes>"
      ]
     },
     "metadata": {
      "needs_background": "light"
     },
     "output_type": "display_data"
    }
   ],
   "source": [
    "# LINE AND SCATTER PLOTS\n",
    "#Generate a line plot of tumor volume vs. time point for a mouse treated with Capomulin\n",
    "print(only_cap)\n",
    "# plot generated for mouse \"s185\"\n",
    "x_cap = [0, 5, 10, 15, 20]\n",
    "y_cap = [45.0, 43.9, 37.6, 38.2, 36.9]\n",
    "plt.plot(x_cap,y_cap)\n",
    "plt.xlabel(\"Timeframe\")\n",
    "plt.ylabel(\"Tumor Growth (mm3)\")\n",
    "plt.show()\n"
   ]
  },
  {
   "cell_type": "code",
   "execution_count": 16,
   "metadata": {},
   "outputs": [
    {
     "data": {
      "text/plain": [
       "Weight (g)\n",
       "15    36.182040\n",
       "17    37.214133\n",
       "19    41.182391\n",
       "20    39.141053\n",
       "21    42.088700\n",
       "22    43.288490\n",
       "23    43.341051\n",
       "24    44.805810\n",
       "25    44.062109\n",
       "Name: Tumor Volume (mm3), dtype: float64"
      ]
     },
     "execution_count": 16,
     "metadata": {},
     "output_type": "execute_result"
    }
   ],
   "source": [
    "# make a scatter plot based on average weight and tumor size for Capomulin trial\n",
    "cap_scatter = only_cap.groupby(\"Weight (g)\").mean()[\"Tumor Volume (mm3)\"]\n",
    "cap_scatter\n"
   ]
  },
  {
   "cell_type": "code",
   "execution_count": 17,
   "metadata": {},
   "outputs": [
    {
     "name": "stdout",
     "output_type": "stream",
     "text": [
      "0.9609669432428346\n",
      "The r-squared is: 0.2763600223455911\n"
     ]
    },
    {
     "data": {
      "image/png": "[encoded data removed]",
      "text/plain": [
       "<Figure size 432x288 with 1 Axes>"
      ]
     },
     "metadata": {
      "needs_background": "light"
     },
     "output_type": "display_data"
    }
   ],
   "source": [
    "#CORRELATION AND REGRESSION\n",
    "# Calculate the correlation coefficient and linear regression model \n",
    "# for mouse weight and average tumor volume for the Capomulin regimen\n",
    "\n",
    "(slopem, interceptb, caprvalue, pvalue, stderr) = stats.linregress(only_cap[\"Weight (g)\"], only_cap[\"Tumor Volume (mm3)\"])\n",
    "model = stats.linregress(only_cap[\"Weight (g)\"], only_cap[\"Tumor Volume (mm3)\"])\n",
    "y_values = only_cap[\"Weight (g)\"]*model[0]+model[1]\n",
    "print(slopem)\n",
    "plt.scatter(only_cap[\"Weight (g)\"], only_cap[\"Tumor Volume (mm3)\"])\n",
    "plt.plot(only_cap[\"Weight (g)\"],y_values,\"r-\")\n",
    "plt.xlabel('Average Weight')\n",
    "plt.ylabel('Average Tumor Volume on Capomulin')\n",
    "print(f\"The r-squared is: {caprvalue**2}\")\n",
    "plt.show()\n"
   ]
  },
  {
   "cell_type": "code",
   "execution_count": 18,
   "metadata": {},
   "outputs": [
    {
     "data": {
      "image/png": "[encoded data removed]",
      "text/plain": [
       "<Figure size 432x288 with 1 Axes>"
      ]
     },
     "metadata": {
      "needs_background": "light"
     },
     "output_type": "display_data"
    },
    {
     "name": "stdout",
     "output_type": "stream",
     "text": [
      "Any data points that falls below 43.050000000000004 (mm3) or above 49.55 (mm3) is an outlier data point.\n"
     ]
    },
    {
     "data": {
      "image/png": "[encoded data removed]",
      "text/plain": [
       "<Figure size 432x288 with 1 Axes>"
      ]
     },
     "metadata": {
      "needs_background": "light"
     },
     "output_type": "display_data"
    },
    {
     "name": "stdout",
     "output_type": "stream",
     "text": [
      "Any data points that falls below 27.75 (mm3) or above 89.45 (mm3) is an outlier data point.\n"
     ]
    },
    {
     "data": {
      "image/png": "[encoded data removed]",
      "text/plain": [
       "<Figure size 432x288 with 1 Axes>"
      ]
     },
     "metadata": {
      "needs_background": "light"
     },
     "output_type": "display_data"
    },
    {
     "name": "stdout",
     "output_type": "stream",
     "text": [
      "Any data points that falls below 21.60000000000001 (mm3) or above 92.3 (mm3) is an outlier data point.\n"
     ]
    }
   ],
   "source": [
    "## Statistical Analysis for other treatments\n",
    "only_ram = clean_mousedf.loc[(clean_mousedf[\"Drug Regimen\"] == \"Ramicane\"), :]\n",
    "only_ram\n",
    "ram_stats = only_ram.groupby([\"Mouse ID\", \"Drug Regimen\"]).max()[\"Tumor Volume (mm3)\"]\n",
    "ram_stats\n",
    "ramdf = pd.DataFrame(ram_stats, columns=[\"Tumor Volume (mm3)\"])\n",
    "ramdf\n",
    "\n",
    "\n",
    "fig1, ax1 = plt.subplots()\n",
    "ax1.set_title('Ramicane')\n",
    "ax1.set_ylabel('Tumor Volume (mm3)')\n",
    "ax1.boxplot(ramdf)\n",
    "plt.show()\n",
    "ramdf.describe()\n",
    "ramIQR = 46.3 - 45.0\n",
    "minram = 45.0\n",
    "maxram = 47.6\n",
    "ram_outliers = ramIQR*1.5\n",
    "print( \"Any data points that falls below \" \n",
    "      +  str(minram - ram_outliers)  + \" (mm3) or above \" + str(maxram + ram_outliers) + \n",
    "      \" (mm3) is an outlier data point.\")\n",
    "only_inf = clean_mousedf.loc[(clean_mousedf[\"Drug Regimen\"] == \"Infubinol\"), :]\n",
    "only_inf\n",
    "inf_stats = only_inf.groupby([\"Mouse ID\", \"Drug Regimen\"]).max()[\"Tumor Volume (mm3)\"]\n",
    "inf_stats\n",
    "infdf = pd.DataFrame(inf_stats, columns=[\"Tumor Volume (mm3)\"])\n",
    "infdf\n",
    "\n",
    "fig1, ax1 = plt.subplots()\n",
    "ax1.set_title('Infubinol')\n",
    "ax1.set_ylabel('Tumor Volume (mm3)')\n",
    "ax1.boxplot(infdf)\n",
    "plt.show()\n",
    "infdf.describe()\n",
    "infIQR = 65.5 - 54.0\n",
    "mininf = 45.0\n",
    "maxinf = 72.2\n",
    "inf_outliers = infIQR*1.5\n",
    "print( \"Any data points that falls below \" \n",
    "      +  str(mininf - inf_outliers)  + \" (mm3) or above \" + str(maxinf + inf_outliers) + \n",
    "      \" (mm3) is an outlier data point.\")\n",
    "only_cef = clean_mousedf.loc[(clean_mousedf[\"Drug Regimen\"] == \"Ceftamin\"), :]\n",
    "only_cef\n",
    "cef_stats = only_cef.groupby([\"Mouse ID\", \"Drug Regimen\"]).max()[\"Tumor Volume (mm3)\"]\n",
    "cef_stats\n",
    "cefdf = pd.DataFrame(cef_stats, columns=[\"Tumor Volume (mm3)\"])\n",
    "cefdf\n",
    "\n",
    "fig1, ax1 = plt.subplots()\n",
    "ax1.set_title('Ceftamin')\n",
    "ax1.set_ylabel('Tumor Volume (mm3)')\n",
    "ax1.boxplot(cefdf)\n",
    "plt.show()\n",
    "\n",
    "cefdf.describe()\n",
    "cefIQR = 64.3 - 48.7\n",
    "cef_outliers = cefIQR* 1.5\n",
    "mincef = 45.00\n",
    "maxcef = 68.9\n",
    "print( \"Any data points that falls below \" \n",
    "      +  str(mincef - cef_outliers)  + \" (mm3) or above \" + str(maxcef + cef_outliers) + \n",
    "      \" (mm3) is an outlier data point.\")\n"
   ]
  },
  {
   "cell_type": "code",
   "execution_count": null,
   "metadata": {},
   "outputs": [],
   "source": []
  },
  {
   "cell_type": "code",
   "execution_count": null,
   "metadata": {},
   "outputs": [],
   "source": []
  }
 ],
 "metadata": {
  "kernelspec": {
   "display_name": "Python 3",
   "language": "python",
   "name": "python3"
  },
  "language_info": {
   "codemirror_mode": {
    "name": "ipython",
    "version": 3
   },
   "file_extension": ".py",
   "mimetype": "text/x-python",
   "name": "python",
   "nbconvert_exporter": "python",
   "pygments_lexer": "ipython3",
   "version": "3.8.5"
  }
 },
 "nbformat": 4,
 "nbformat_minor": 4
}

